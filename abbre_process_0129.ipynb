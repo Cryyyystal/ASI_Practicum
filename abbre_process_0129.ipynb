{
 "cells": [
  {
   "cell_type": "code",
   "execution_count": 5,
   "metadata": {},
   "outputs": [],
   "source": [
    "import string\n",
    "from nltk.corpus import stopwords\n",
    "import nltk \n",
    "import pandas as pd\n",
    "import numpy as np\n",
    "import re\n",
    "from collections import Counter\n",
    "import csv\n",
    "from nltk import stem\n",
    "import difflib\n",
    "from textblob import TextBlob\n",
    "%matplotlib inline\n",
    "import matplotlib.pyplot as plt"
   ]
  },
  {
   "cell_type": "code",
   "execution_count": 6,
   "metadata": {},
   "outputs": [],
   "source": [
    "from nltk.corpus import stopwords"
   ]
  },
  {
   "cell_type": "markdown",
   "metadata": {},
   "source": [
    "# Dictionary"
   ]
  },
  {
   "cell_type": "code",
   "execution_count": 7,
   "metadata": {},
   "outputs": [
    {
     "ename": "FileNotFoundError",
     "evalue": "[Errno 2] File b'dictionary2_0210.csv' does not exist: b'dictionary2_0210.csv'",
     "output_type": "error",
     "traceback": [
      "\u001b[0;31m---------------------------------------------------------------------------\u001b[0m",
      "\u001b[0;31mFileNotFoundError\u001b[0m                         Traceback (most recent call last)",
      "\u001b[0;32m<ipython-input-7-f196384ff542>\u001b[0m in \u001b[0;36m<module>\u001b[0;34m\u001b[0m\n\u001b[0;32m----> 1\u001b[0;31m \u001b[0mabb\u001b[0m \u001b[0;34m=\u001b[0m \u001b[0mpd\u001b[0m\u001b[0;34m.\u001b[0m\u001b[0mread_csv\u001b[0m\u001b[0;34m(\u001b[0m\u001b[0;34m\"dictionary2_0210.csv\"\u001b[0m\u001b[0;34m)\u001b[0m\u001b[0;34m\u001b[0m\u001b[0;34m\u001b[0m\u001b[0m\n\u001b[0m\u001b[1;32m      2\u001b[0m \u001b[0mabb\u001b[0m \u001b[0;34m=\u001b[0m\u001b[0mabb\u001b[0m\u001b[0;34m.\u001b[0m\u001b[0mdrop_duplicates\u001b[0m\u001b[0;34m(\u001b[0m\u001b[0;34m)\u001b[0m\u001b[0;34m\u001b[0m\u001b[0;34m\u001b[0m\u001b[0m\n\u001b[1;32m      3\u001b[0m \u001b[0mabb\u001b[0m \u001b[0;34m=\u001b[0m\u001b[0mabb\u001b[0m\u001b[0;34m.\u001b[0m\u001b[0mdropna\u001b[0m\u001b[0;34m(\u001b[0m\u001b[0;34m)\u001b[0m\u001b[0;34m\u001b[0m\u001b[0;34m\u001b[0m\u001b[0m\n\u001b[1;32m      4\u001b[0m \u001b[0mprint\u001b[0m\u001b[0;34m(\u001b[0m\u001b[0mabb\u001b[0m\u001b[0;34m.\u001b[0m\u001b[0mhead\u001b[0m\u001b[0;34m(\u001b[0m\u001b[0;34m)\u001b[0m\u001b[0;34m)\u001b[0m\u001b[0;34m\u001b[0m\u001b[0;34m\u001b[0m\u001b[0m\n",
      "\u001b[0;32m~/opt/anaconda3/lib/python3.7/site-packages/pandas/io/parsers.py\u001b[0m in \u001b[0;36mparser_f\u001b[0;34m(filepath_or_buffer, sep, delimiter, header, names, index_col, usecols, squeeze, prefix, mangle_dupe_cols, dtype, engine, converters, true_values, false_values, skipinitialspace, skiprows, skipfooter, nrows, na_values, keep_default_na, na_filter, verbose, skip_blank_lines, parse_dates, infer_datetime_format, keep_date_col, date_parser, dayfirst, cache_dates, iterator, chunksize, compression, thousands, decimal, lineterminator, quotechar, quoting, doublequote, escapechar, comment, encoding, dialect, error_bad_lines, warn_bad_lines, delim_whitespace, low_memory, memory_map, float_precision)\u001b[0m\n\u001b[1;32m    683\u001b[0m         )\n\u001b[1;32m    684\u001b[0m \u001b[0;34m\u001b[0m\u001b[0m\n\u001b[0;32m--> 685\u001b[0;31m         \u001b[0;32mreturn\u001b[0m \u001b[0m_read\u001b[0m\u001b[0;34m(\u001b[0m\u001b[0mfilepath_or_buffer\u001b[0m\u001b[0;34m,\u001b[0m \u001b[0mkwds\u001b[0m\u001b[0;34m)\u001b[0m\u001b[0;34m\u001b[0m\u001b[0;34m\u001b[0m\u001b[0m\n\u001b[0m\u001b[1;32m    686\u001b[0m \u001b[0;34m\u001b[0m\u001b[0m\n\u001b[1;32m    687\u001b[0m     \u001b[0mparser_f\u001b[0m\u001b[0;34m.\u001b[0m\u001b[0m__name__\u001b[0m \u001b[0;34m=\u001b[0m \u001b[0mname\u001b[0m\u001b[0;34m\u001b[0m\u001b[0;34m\u001b[0m\u001b[0m\n",
      "\u001b[0;32m~/opt/anaconda3/lib/python3.7/site-packages/pandas/io/parsers.py\u001b[0m in \u001b[0;36m_read\u001b[0;34m(filepath_or_buffer, kwds)\u001b[0m\n\u001b[1;32m    455\u001b[0m \u001b[0;34m\u001b[0m\u001b[0m\n\u001b[1;32m    456\u001b[0m     \u001b[0;31m# Create the parser.\u001b[0m\u001b[0;34m\u001b[0m\u001b[0;34m\u001b[0m\u001b[0;34m\u001b[0m\u001b[0m\n\u001b[0;32m--> 457\u001b[0;31m     \u001b[0mparser\u001b[0m \u001b[0;34m=\u001b[0m \u001b[0mTextFileReader\u001b[0m\u001b[0;34m(\u001b[0m\u001b[0mfp_or_buf\u001b[0m\u001b[0;34m,\u001b[0m \u001b[0;34m**\u001b[0m\u001b[0mkwds\u001b[0m\u001b[0;34m)\u001b[0m\u001b[0;34m\u001b[0m\u001b[0;34m\u001b[0m\u001b[0m\n\u001b[0m\u001b[1;32m    458\u001b[0m \u001b[0;34m\u001b[0m\u001b[0m\n\u001b[1;32m    459\u001b[0m     \u001b[0;32mif\u001b[0m \u001b[0mchunksize\u001b[0m \u001b[0;32mor\u001b[0m \u001b[0miterator\u001b[0m\u001b[0;34m:\u001b[0m\u001b[0;34m\u001b[0m\u001b[0;34m\u001b[0m\u001b[0m\n",
      "\u001b[0;32m~/opt/anaconda3/lib/python3.7/site-packages/pandas/io/parsers.py\u001b[0m in \u001b[0;36m__init__\u001b[0;34m(self, f, engine, **kwds)\u001b[0m\n\u001b[1;32m    893\u001b[0m             \u001b[0mself\u001b[0m\u001b[0;34m.\u001b[0m\u001b[0moptions\u001b[0m\u001b[0;34m[\u001b[0m\u001b[0;34m\"has_index_names\"\u001b[0m\u001b[0;34m]\u001b[0m \u001b[0;34m=\u001b[0m \u001b[0mkwds\u001b[0m\u001b[0;34m[\u001b[0m\u001b[0;34m\"has_index_names\"\u001b[0m\u001b[0;34m]\u001b[0m\u001b[0;34m\u001b[0m\u001b[0;34m\u001b[0m\u001b[0m\n\u001b[1;32m    894\u001b[0m \u001b[0;34m\u001b[0m\u001b[0m\n\u001b[0;32m--> 895\u001b[0;31m         \u001b[0mself\u001b[0m\u001b[0;34m.\u001b[0m\u001b[0m_make_engine\u001b[0m\u001b[0;34m(\u001b[0m\u001b[0mself\u001b[0m\u001b[0;34m.\u001b[0m\u001b[0mengine\u001b[0m\u001b[0;34m)\u001b[0m\u001b[0;34m\u001b[0m\u001b[0;34m\u001b[0m\u001b[0m\n\u001b[0m\u001b[1;32m    896\u001b[0m \u001b[0;34m\u001b[0m\u001b[0m\n\u001b[1;32m    897\u001b[0m     \u001b[0;32mdef\u001b[0m \u001b[0mclose\u001b[0m\u001b[0;34m(\u001b[0m\u001b[0mself\u001b[0m\u001b[0;34m)\u001b[0m\u001b[0;34m:\u001b[0m\u001b[0;34m\u001b[0m\u001b[0;34m\u001b[0m\u001b[0m\n",
      "\u001b[0;32m~/opt/anaconda3/lib/python3.7/site-packages/pandas/io/parsers.py\u001b[0m in \u001b[0;36m_make_engine\u001b[0;34m(self, engine)\u001b[0m\n\u001b[1;32m   1133\u001b[0m     \u001b[0;32mdef\u001b[0m \u001b[0m_make_engine\u001b[0m\u001b[0;34m(\u001b[0m\u001b[0mself\u001b[0m\u001b[0;34m,\u001b[0m \u001b[0mengine\u001b[0m\u001b[0;34m=\u001b[0m\u001b[0;34m\"c\"\u001b[0m\u001b[0;34m)\u001b[0m\u001b[0;34m:\u001b[0m\u001b[0;34m\u001b[0m\u001b[0;34m\u001b[0m\u001b[0m\n\u001b[1;32m   1134\u001b[0m         \u001b[0;32mif\u001b[0m \u001b[0mengine\u001b[0m \u001b[0;34m==\u001b[0m \u001b[0;34m\"c\"\u001b[0m\u001b[0;34m:\u001b[0m\u001b[0;34m\u001b[0m\u001b[0;34m\u001b[0m\u001b[0m\n\u001b[0;32m-> 1135\u001b[0;31m             \u001b[0mself\u001b[0m\u001b[0;34m.\u001b[0m\u001b[0m_engine\u001b[0m \u001b[0;34m=\u001b[0m \u001b[0mCParserWrapper\u001b[0m\u001b[0;34m(\u001b[0m\u001b[0mself\u001b[0m\u001b[0;34m.\u001b[0m\u001b[0mf\u001b[0m\u001b[0;34m,\u001b[0m \u001b[0;34m**\u001b[0m\u001b[0mself\u001b[0m\u001b[0;34m.\u001b[0m\u001b[0moptions\u001b[0m\u001b[0;34m)\u001b[0m\u001b[0;34m\u001b[0m\u001b[0;34m\u001b[0m\u001b[0m\n\u001b[0m\u001b[1;32m   1136\u001b[0m         \u001b[0;32melse\u001b[0m\u001b[0;34m:\u001b[0m\u001b[0;34m\u001b[0m\u001b[0;34m\u001b[0m\u001b[0m\n\u001b[1;32m   1137\u001b[0m             \u001b[0;32mif\u001b[0m \u001b[0mengine\u001b[0m \u001b[0;34m==\u001b[0m \u001b[0;34m\"python\"\u001b[0m\u001b[0;34m:\u001b[0m\u001b[0;34m\u001b[0m\u001b[0;34m\u001b[0m\u001b[0m\n",
      "\u001b[0;32m~/opt/anaconda3/lib/python3.7/site-packages/pandas/io/parsers.py\u001b[0m in \u001b[0;36m__init__\u001b[0;34m(self, src, **kwds)\u001b[0m\n\u001b[1;32m   1915\u001b[0m         \u001b[0mkwds\u001b[0m\u001b[0;34m[\u001b[0m\u001b[0;34m\"usecols\"\u001b[0m\u001b[0;34m]\u001b[0m \u001b[0;34m=\u001b[0m \u001b[0mself\u001b[0m\u001b[0;34m.\u001b[0m\u001b[0musecols\u001b[0m\u001b[0;34m\u001b[0m\u001b[0;34m\u001b[0m\u001b[0m\n\u001b[1;32m   1916\u001b[0m \u001b[0;34m\u001b[0m\u001b[0m\n\u001b[0;32m-> 1917\u001b[0;31m         \u001b[0mself\u001b[0m\u001b[0;34m.\u001b[0m\u001b[0m_reader\u001b[0m \u001b[0;34m=\u001b[0m \u001b[0mparsers\u001b[0m\u001b[0;34m.\u001b[0m\u001b[0mTextReader\u001b[0m\u001b[0;34m(\u001b[0m\u001b[0msrc\u001b[0m\u001b[0;34m,\u001b[0m \u001b[0;34m**\u001b[0m\u001b[0mkwds\u001b[0m\u001b[0;34m)\u001b[0m\u001b[0;34m\u001b[0m\u001b[0;34m\u001b[0m\u001b[0m\n\u001b[0m\u001b[1;32m   1918\u001b[0m         \u001b[0mself\u001b[0m\u001b[0;34m.\u001b[0m\u001b[0munnamed_cols\u001b[0m \u001b[0;34m=\u001b[0m \u001b[0mself\u001b[0m\u001b[0;34m.\u001b[0m\u001b[0m_reader\u001b[0m\u001b[0;34m.\u001b[0m\u001b[0munnamed_cols\u001b[0m\u001b[0;34m\u001b[0m\u001b[0;34m\u001b[0m\u001b[0m\n\u001b[1;32m   1919\u001b[0m \u001b[0;34m\u001b[0m\u001b[0m\n",
      "\u001b[0;32mpandas/_libs/parsers.pyx\u001b[0m in \u001b[0;36mpandas._libs.parsers.TextReader.__cinit__\u001b[0;34m()\u001b[0m\n",
      "\u001b[0;32mpandas/_libs/parsers.pyx\u001b[0m in \u001b[0;36mpandas._libs.parsers.TextReader._setup_parser_source\u001b[0;34m()\u001b[0m\n",
      "\u001b[0;31mFileNotFoundError\u001b[0m: [Errno 2] File b'dictionary2_0210.csv' does not exist: b'dictionary2_0210.csv'"
     ]
    }
   ],
   "source": [
    "abb = pd.read_csv(\"dictionary2_0210.csv\")\n",
    "abb =abb.drop_duplicates()\n",
    "abb =abb.dropna()\n",
    "print(abb.head())"
   ]
  },
  {
   "cell_type": "code",
   "execution_count": null,
   "metadata": {},
   "outputs": [],
   "source": [
    "print(len(abb))\n",
    "print(len(abb['Form'].unique()))"
   ]
  },
  {
   "cell_type": "code",
   "execution_count": 4,
   "metadata": {},
   "outputs": [
    {
     "ename": "NameError",
     "evalue": "name 'abb' is not defined",
     "output_type": "error",
     "traceback": [
      "\u001b[0;31m---------------------------------------------------------------------------\u001b[0m",
      "\u001b[0;31mNameError\u001b[0m                                 Traceback (most recent call last)",
      "\u001b[0;32m<ipython-input-4-ee2438e1e71e>\u001b[0m in \u001b[0;36m<module>\u001b[0;34m\u001b[0m\n\u001b[0;32m----> 1\u001b[0;31m \u001b[0mabb\u001b[0m\u001b[0;34m[\u001b[0m\u001b[0;34m'Form'\u001b[0m\u001b[0;34m]\u001b[0m\u001b[0;34m.\u001b[0m\u001b[0mvalue_counts\u001b[0m\u001b[0;34m(\u001b[0m\u001b[0;34m)\u001b[0m\u001b[0;34m.\u001b[0m\u001b[0mhead\u001b[0m\u001b[0;34m(\u001b[0m\u001b[0;36m5\u001b[0m\u001b[0;34m)\u001b[0m\u001b[0;34m\u001b[0m\u001b[0;34m\u001b[0m\u001b[0m\n\u001b[0m\u001b[1;32m      2\u001b[0m \u001b[0;31m#some rows have the same column value\u001b[0m\u001b[0;34m\u001b[0m\u001b[0;34m\u001b[0m\u001b[0;34m\u001b[0m\u001b[0m\n",
      "\u001b[0;31mNameError\u001b[0m: name 'abb' is not defined"
     ]
    }
   ],
   "source": [
    "abb['Form'].value_counts().head(5)\n",
    "#some rows have the same column value"
   ]
  },
  {
   "cell_type": "code",
   "execution_count": 163,
   "metadata": {},
   "outputs": [
    {
     "data": {
      "text/html": [
       "<div>\n",
       "<style scoped>\n",
       "    .dataframe tbody tr th:only-of-type {\n",
       "        vertical-align: middle;\n",
       "    }\n",
       "\n",
       "    .dataframe tbody tr th {\n",
       "        vertical-align: top;\n",
       "    }\n",
       "\n",
       "    .dataframe thead th {\n",
       "        text-align: right;\n",
       "    }\n",
       "</style>\n",
       "<table border=\"1\" class=\"dataframe\">\n",
       "  <thead>\n",
       "    <tr style=\"text-align: right;\">\n",
       "      <th></th>\n",
       "      <th>Name</th>\n",
       "      <th>Form</th>\n",
       "    </tr>\n",
       "  </thead>\n",
       "  <tbody>\n",
       "    <tr>\n",
       "      <th>1</th>\n",
       "      <td>Actual Time Of Arrival</td>\n",
       "      <td>ATA</td>\n",
       "    </tr>\n",
       "    <tr>\n",
       "      <th>13</th>\n",
       "      <td>Air Traffic Area</td>\n",
       "      <td>ATA</td>\n",
       "    </tr>\n",
       "    <tr>\n",
       "      <th>40</th>\n",
       "      <td>Automated Surface Observation Sys (Or Weather ...</td>\n",
       "      <td>AWOS</td>\n",
       "    </tr>\n",
       "    <tr>\n",
       "      <th>46</th>\n",
       "      <td>Automatic Weather Observing System</td>\n",
       "      <td>AWOS</td>\n",
       "    </tr>\n",
       "    <tr>\n",
       "      <th>65</th>\n",
       "      <td>Category</td>\n",
       "      <td>CAT</td>\n",
       "    </tr>\n",
       "    <tr>\n",
       "      <th>79</th>\n",
       "      <td>Clear Air Turbulence</td>\n",
       "      <td>CAT</td>\n",
       "    </tr>\n",
       "    <tr>\n",
       "      <th>127</th>\n",
       "      <td>Eastern Standard Time</td>\n",
       "      <td>EST</td>\n",
       "    </tr>\n",
       "    <tr>\n",
       "      <th>139</th>\n",
       "      <td>Estimate</td>\n",
       "      <td>EST</td>\n",
       "    </tr>\n",
       "  </tbody>\n",
       "</table>\n",
       "</div>"
      ],
      "text/plain": [
       "                                                  Name  Form\n",
       "1                               Actual Time Of Arrival   ATA\n",
       "13                                    Air Traffic Area   ATA\n",
       "40   Automated Surface Observation Sys (Or Weather ...  AWOS\n",
       "46                  Automatic Weather Observing System  AWOS\n",
       "65                                            Category   CAT\n",
       "79                                Clear Air Turbulence   CAT\n",
       "127                              Eastern Standard Time   EST\n",
       "139                                           Estimate   EST"
      ]
     },
     "execution_count": 163,
     "metadata": {},
     "output_type": "execute_result"
    }
   ],
   "source": [
    "array = ['EST','CAT','AWOS','ATA']\n",
    "abb.loc[abb['Form'].isin(array)]"
   ]
  },
  {
   "cell_type": "code",
   "execution_count": 164,
   "metadata": {},
   "outputs": [],
   "source": [
    "#Unify some values\n",
    "abb.loc[1,'Name'] = 'Actual Time Of Arrival/Air Traffic Area'\n",
    "abb.loc[13,'Name'] = 'Actual Time Of Arrival/Air Traffic Area'\n",
    "abb.loc[40,'Name'] = 'Automatic Weather Observing System'\n",
    "abb.loc[46,'Name'] = 'Automatic Weather Observing System'\n",
    "abb.loc[65,'Name'] ='Category/Clear Air Turbulence'\n",
    "abb.loc[79,'Name'] ='Category/Clear Air Turbulence'\n",
    "abb.loc[127,'Name'] = 'Eastern Standard Time/Estimate'\n",
    "abb.loc[139,'Name'] = 'Eastern Standard Time/Estimate'"
   ]
  },
  {
   "cell_type": "code",
   "execution_count": 165,
   "metadata": {},
   "outputs": [
    {
     "data": {
      "text/plain": [
       "APPROX     1\n",
       "MAINT      1\n",
       "SUPVR      1\n",
       "autoplt    1\n",
       "CPU        1\n",
       "Name: Form, dtype: int64"
      ]
     },
     "execution_count": 165,
     "metadata": {},
     "output_type": "execute_result"
    }
   ],
   "source": [
    "abb =abb.drop_duplicates()\n",
    "abb =abb.dropna()\n",
    "abb['Form'].value_counts().head(5)"
   ]
  },
  {
   "cell_type": "code",
   "execution_count": 166,
   "metadata": {},
   "outputs": [],
   "source": [
    "#Remove rows that contain numeric values\n",
    "indexNames = abb[(abb['Form'].str.contains('0')) | (abb['Form'].str.contains('1'))|\n",
    "                 (abb['Form'].str.contains('2')) | (abb['Form'].str.contains('3'))|\n",
    "                 (abb['Form'].str.contains('4')) | (abb['Form'].str.contains('5'))|\n",
    "                 (abb['Form'].str.contains('6')) | (abb['Form'].str.contains('7'))|\n",
    "                 (abb['Form'].str.contains('8')) | (abb['Form'].str.contains('9'))].index\n",
    "abb.drop(indexNames , inplace=True)"
   ]
  },
  {
   "cell_type": "code",
   "execution_count": 167,
   "metadata": {},
   "outputs": [
    {
     "name": "stdout",
     "output_type": "stream",
     "text": [
      "562\n",
      "562\n"
     ]
    },
    {
     "data": {
      "text/html": [
       "<div>\n",
       "<style scoped>\n",
       "    .dataframe tbody tr th:only-of-type {\n",
       "        vertical-align: middle;\n",
       "    }\n",
       "\n",
       "    .dataframe tbody tr th {\n",
       "        vertical-align: top;\n",
       "    }\n",
       "\n",
       "    .dataframe thead th {\n",
       "        text-align: right;\n",
       "    }\n",
       "</style>\n",
       "<table border=\"1\" class=\"dataframe\">\n",
       "  <thead>\n",
       "    <tr style=\"text-align: right;\">\n",
       "      <th></th>\n",
       "      <th>Name</th>\n",
       "      <th>Form</th>\n",
       "    </tr>\n",
       "  </thead>\n",
       "  <tbody>\n",
       "    <tr>\n",
       "      <th>0</th>\n",
       "      <td>Above Ground Level</td>\n",
       "      <td>AGL</td>\n",
       "    </tr>\n",
       "    <tr>\n",
       "      <th>1</th>\n",
       "      <td>Actual Time Of Arrival/Air Traffic Area</td>\n",
       "      <td>ATA</td>\n",
       "    </tr>\n",
       "    <tr>\n",
       "      <th>2</th>\n",
       "      <td>Actual Time Of Departure</td>\n",
       "      <td>ATD</td>\n",
       "    </tr>\n",
       "    <tr>\n",
       "      <th>3</th>\n",
       "      <td>Aeronautical</td>\n",
       "      <td>AERO</td>\n",
       "    </tr>\n",
       "    <tr>\n",
       "      <th>4</th>\n",
       "      <td>Aeronautical Information Manual</td>\n",
       "      <td>AIM</td>\n",
       "    </tr>\n",
       "  </tbody>\n",
       "</table>\n",
       "</div>"
      ],
      "text/plain": [
       "                                      Name  Form\n",
       "0                       Above Ground Level   AGL\n",
       "1  Actual Time Of Arrival/Air Traffic Area   ATA\n",
       "2                 Actual Time Of Departure   ATD\n",
       "3                             Aeronautical  AERO\n",
       "4          Aeronautical Information Manual   AIM"
      ]
     },
     "execution_count": 167,
     "metadata": {},
     "output_type": "execute_result"
    }
   ],
   "source": [
    "print(len(abb)),print(len(abb['Form'].unique()))\n",
    "abb.head()"
   ]
  },
  {
   "cell_type": "code",
   "execution_count": 168,
   "metadata": {},
   "outputs": [],
   "source": [
    "#Create the dictionary\n",
    "dict_abb = {}\n",
    "for i in range(len(abb)):   \n",
    "    word = ' '+abb.iloc[i,1]+' '\n",
    "    value = ' '+abb.iloc[i,0]+' '\n",
    "    dict_abb[word] = value\n",
    "#Standard 2400' Hi-Intensity Approach Lighting System With Sequenced Flashers (Cat I Config), ALSF-1\n",
    "#Standard 2400' Hi-Intensity Approach Lighting System With Sequenced Flashers (Cat Ii Config), ALSF-2\n",
    "dict_abb = {k.lower(): v.lower() for k, v in dict_abb.items()}"
   ]
  },
  {
   "cell_type": "markdown",
   "metadata": {},
   "source": [
    "# ASRS"
   ]
  },
  {
   "cell_type": "code",
   "execution_count": 314,
   "metadata": {},
   "outputs": [
    {
     "data": {
      "text/plain": [
       "Index(['report 1', 'report 1.1', 'report 2', 'report 2.1', 'report 1.2',\n",
       "       'unnamed: 96'],\n",
       "      dtype='object')"
      ]
     },
     "execution_count": 314,
     "metadata": {},
     "output_type": "execute_result"
    }
   ],
   "source": [
    "df = pd.read_csv('asrs_sample_for_model.csv')\n",
    "df.columns[-16:-10]"
   ]
  },
  {
   "cell_type": "code",
   "execution_count": 315,
   "metadata": {},
   "outputs": [],
   "source": [
    "re1 = df['report 1']"
   ]
  },
  {
   "cell_type": "code",
   "execution_count": 316,
   "metadata": {},
   "outputs": [
    {
     "name": "stdout",
     "output_type": "stream",
     "text": [
      "[\"didn't\", \"didn't\", \"didn't\", \"didn't\", \"didn't\", \"didn't\", \"didn't\", \"didn't\", \"didn't\", \"didn't\", \"didn't\", \"didn't\", \"didn't\", \"didn't\", \"didn't\", \"didn't\", \"didn't\", \"didn't\", \"didn't\", \"didn't\", \"didn't\", \"didn't\", \"didn't\", \"didn't\", \"didn't\", \"didn't\", \"didn't\", \"didn't\", \"didn't\", \"didn't\", \"didn't\", \"didn't\", \"didn't\", \"didn't\", \"didn't\", \"didn't\", \"didn't\", \"didn't\", \"didn't\", \"didn't\", \"didn't\", \"didn't\", \"didn't\", \"didn't\", \"didn't\", \"didn't\", \"didn't\"]\n"
     ]
    }
   ],
   "source": [
    "a = re1.str.findall(r\"didn\\'t\")\n",
    "print(a.sum())"
   ]
  },
  {
   "cell_type": "code",
   "execution_count": 317,
   "metadata": {},
   "outputs": [],
   "source": [
    "#decontraction\n",
    "def decontracted(phrase):\n",
    "    # specific\n",
    "    phrase = re.sub(r\"won\\'t\", \"will not\", phrase)\n",
    "    phrase = re.sub(r\"can\\'t\", \"can not\", phrase)\n",
    "    phrase = re.sub(r\"didn\\'t\", \"did not\", phrase)\n",
    "    phrase = re.sub(r\"don\\'t\", \"do not\", phrase)\n",
    "    phrase = re.sub(r\"o\\'clock\", \"clock\", phrase)\n",
    "    phrase = re.sub(r\"couldn\\'t\", \"could not\", phrase)\n",
    "    phrase = re.sub(r\"that\\'s\", \"that is\", phrase)       \n",
    "    phrase = re.sub(r\"go-around\", \"go around\", phrase)  \n",
    "    # general\n",
    "    phrase = re.sub(r\"\\'ve\", \" have\", phrase)\n",
    "    phrase = re.sub(r\"n\\'t\", \" not\", phrase)\n",
    "    phrase = re.sub(r\"\\'re\", \" are\", phrase)\n",
    "    #phrase = re.sub(r\"\\'s\", \" is\", phrase)\n",
    "    phrase = re.sub(r\"\\'d\", \" would\", phrase)\n",
    "    phrase = re.sub(r\"\\'ll\", \" will\", phrase)\n",
    "    phrase = re.sub(r\"\\'t\", \" not\", phrase)\n",
    "    phrase = re.sub(r\"\\'m\", \" am\", phrase)\n",
    "    return phrase"
   ]
  },
  {
   "cell_type": "code",
   "execution_count": 318,
   "metadata": {},
   "outputs": [
    {
     "name": "stdout",
     "output_type": "stream",
     "text": [
      "[]\n"
     ]
    },
    {
     "name": "stderr",
     "output_type": "stream",
     "text": [
      "//anaconda3/lib/python3.7/site-packages/ipykernel_launcher.py:2: SettingWithCopyWarning: \n",
      "A value is trying to be set on a copy of a slice from a DataFrame\n",
      "\n",
      "See the caveats in the documentation: https://pandas.pydata.org/pandas-docs/stable/user_guide/indexing.html#returning-a-view-versus-a-copy\n",
      "  \n"
     ]
    }
   ],
   "source": [
    "for i in range(len(re1)):\n",
    "    re1[i] = decontracted(re1[i].lower())\n",
    "a = re1.str.findall(r\"didn\\'t\")\n",
    "print(a.sum())"
   ]
  },
  {
   "cell_type": "code",
   "execution_count": 319,
   "metadata": {},
   "outputs": [],
   "source": [
    "def text_process1(mess):\n",
    "    # Check characters to see if they are in punctuation\n",
    "    nopunc = [char for char in mess if char not in string.punctuation]\n",
    "    # Join the characters again to form the string.\n",
    "    nopunc = ' '+''.join(nopunc).lower()+' '\n",
    "    return nopunc"
   ]
  },
  {
   "cell_type": "code",
   "execution_count": 320,
   "metadata": {},
   "outputs": [],
   "source": [
    "re1 =re1.apply(text_process1)"
   ]
  },
  {
   "cell_type": "code",
   "execution_count": 321,
   "metadata": {},
   "outputs": [
    {
     "data": {
      "text/plain": [
       "' i was holding short of runway xx preparing for takeoff i heard aircraft y on downwind then announce his base turn from previous experience i thought i still had ample time to take off and announced an immediate departure and that i should be no factor for the landing traffic as i was on my takeoff roll the landing traffic said i am right on top of you i am going around i apologized and continued my takeoff i suspect he may have turned a tight base and final  but in the future will remember to ask the landing pilot if i have time to take off '"
      ]
     },
     "execution_count": 321,
     "metadata": {},
     "output_type": "execute_result"
    }
   ],
   "source": [
    "re1[0]"
   ]
  },
  {
   "cell_type": "code",
   "execution_count": 322,
   "metadata": {},
   "outputs": [],
   "source": [
    "#replace abbreviation with words\n",
    "for i in range(len(re1)):\n",
    "    for k, v in dict_abb.items():\n",
    "        re1[i] = re1[i].replace(k, v)\n",
    "re1_new = re1.copy()"
   ]
  },
  {
   "cell_type": "code",
   "execution_count": 323,
   "metadata": {},
   "outputs": [],
   "source": [
    "for i in range(len(re1)):\n",
    "    for k, v in dict_abb.items():\n",
    "        re1[i] = re1[i].replace(k, v)"
   ]
  },
  {
   "cell_type": "code",
   "execution_count": 324,
   "metadata": {},
   "outputs": [
    {
     "data": {
      "text/plain": [
       "'i was holding short of runway xx preparing for takeoff i heard aircraft y on downwind then announce his base turn from previous experience i thought i still had ample time to take off and announced an immediate departure and that i should be no factor for the landing traffic as i was on my takeoff roll the landing traffic said i ante meridiem right on top of you i ante meridiem going around i apologized and continued my takeoff i suspect he may have turned a tight base and final  but in the future will remember to ask the landing pilot intermediate fix i have time to take off'"
      ]
     },
     "execution_count": 324,
     "metadata": {},
     "output_type": "execute_result"
    }
   ],
   "source": [
    "#remove blanks\n",
    "for i in range(len(re1_new)):\n",
    "    re1_new[i] = re1_new[i][1:-1]\n",
    "re1_new[0]"
   ]
  },
  {
   "cell_type": "code",
   "execution_count": 325,
   "metadata": {},
   "outputs": [],
   "source": [
    "result_tem = pd.concat([df.iloc[:,-1], re1_new], axis=1, sort=False)\n",
    "result_tem.columns =['airspace_abre_2_2', 'new report 1']\n",
    "result = pd.concat([df.iloc[:, :-1], result_tem], axis=1, sort=False)\n",
    "result.to_csv('sample_re1.csv')"
   ]
  },
  {
   "cell_type": "markdown",
   "metadata": {},
   "source": [
    "# Sentiment Analysis"
   ]
  },
  {
   "cell_type": "code",
   "execution_count": 327,
   "metadata": {},
   "outputs": [],
   "source": [
    "result['polarity'] = result['new report 1'].map(lambda text: TextBlob(text).sentiment.polarity)"
   ]
  },
  {
   "cell_type": "code",
   "execution_count": 368,
   "metadata": {},
   "outputs": [
    {
     "data": {
      "text/plain": [
       "Index(['events.1', 'passenger_involved', 'detector', 'deteced_phase',\n",
       "       'atc_steps', 'assessments', 'assessments.1', 'report 1', 'report 1.1',\n",
       "       'report 2', 'report 2.1', 'report 1.2', 'unnamed: 96', 'year', 'month',\n",
       "       'airspace_class_1_1', 'airspace_abre_1_1', 'airspace_class_1_2',\n",
       "       'airspace_abre_1_2', 'airspace_class_2_1', 'airspace_abre_2_1',\n",
       "       'airspace_class_2_2', 'airspace_abre_2_2', 'new report 1', 'polarity'],\n",
       "      dtype='object')"
      ]
     },
     "execution_count": 368,
     "metadata": {},
     "output_type": "execute_result"
    }
   ],
   "source": [
    "result.columns[80:110]"
   ]
  },
  {
   "cell_type": "code",
   "execution_count": 362,
   "metadata": {},
   "outputs": [
    {
     "data": {
      "text/html": [
       "<div>\n",
       "<style scoped>\n",
       "    .dataframe tbody tr th:only-of-type {\n",
       "        vertical-align: middle;\n",
       "    }\n",
       "\n",
       "    .dataframe tbody tr th {\n",
       "        vertical-align: top;\n",
       "    }\n",
       "\n",
       "    .dataframe thead th {\n",
       "        text-align: right;\n",
       "    }\n",
       "</style>\n",
       "<table border=\"1\" class=\"dataframe\">\n",
       "  <thead>\n",
       "    <tr style=\"text-align: right;\">\n",
       "      <th></th>\n",
       "      <th>airspace</th>\n",
       "      <th>danger_proportion_0</th>\n",
       "      <th>danger_proportion_-0.01</th>\n",
       "      <th>danger proportion_-0.1</th>\n",
       "    </tr>\n",
       "  </thead>\n",
       "  <tbody>\n",
       "    <tr>\n",
       "      <th>1</th>\n",
       "      <td>G</td>\n",
       "      <td>0.61</td>\n",
       "      <td>0.56</td>\n",
       "      <td>0.18</td>\n",
       "    </tr>\n",
       "    <tr>\n",
       "      <th>5</th>\n",
       "      <td>A</td>\n",
       "      <td>0.44</td>\n",
       "      <td>0.39</td>\n",
       "      <td>0.10</td>\n",
       "    </tr>\n",
       "    <tr>\n",
       "      <th>2</th>\n",
       "      <td>B</td>\n",
       "      <td>0.42</td>\n",
       "      <td>0.38</td>\n",
       "      <td>0.10</td>\n",
       "    </tr>\n",
       "    <tr>\n",
       "      <th>3</th>\n",
       "      <td>D</td>\n",
       "      <td>0.38</td>\n",
       "      <td>0.36</td>\n",
       "      <td>0.08</td>\n",
       "    </tr>\n",
       "    <tr>\n",
       "      <th>4</th>\n",
       "      <td>C</td>\n",
       "      <td>0.38</td>\n",
       "      <td>0.34</td>\n",
       "      <td>0.06</td>\n",
       "    </tr>\n",
       "    <tr>\n",
       "      <th>0</th>\n",
       "      <td>E</td>\n",
       "      <td>0.33</td>\n",
       "      <td>0.29</td>\n",
       "      <td>0.06</td>\n",
       "    </tr>\n",
       "  </tbody>\n",
       "</table>\n",
       "</div>"
      ],
      "text/plain": [
       "  airspace  danger_proportion_0  danger_proportion_-0.01  \\\n",
       "1        G                 0.61                     0.56   \n",
       "5        A                 0.44                     0.39   \n",
       "2        B                 0.42                     0.38   \n",
       "3        D                 0.38                     0.36   \n",
       "4        C                 0.38                     0.34   \n",
       "0        E                 0.33                     0.29   \n",
       "\n",
       "   danger proportion_-0.1  \n",
       "1                    0.18  \n",
       "5                    0.10  \n",
       "2                    0.10  \n",
       "3                    0.08  \n",
       "4                    0.06  \n",
       "0                    0.06  "
      ]
     },
     "execution_count": 362,
     "metadata": {},
     "output_type": "execute_result"
    }
   ],
   "source": [
    "#dangerous proportion: polarity < -0.1\n",
    "\n",
    "class_list =result['airspace_class_1_1'].unique()\n",
    "danger = pd.DataFrame(columns = ['airspace', 'danger_proportion_0','danger_proportion_-0.01','danger proportion_-0.1'])\n",
    "\n",
    "for i in range(len(class_list)):\n",
    "    airspace =result['airspace_class_1_1']==class_list[i]\n",
    "    if len(result[airspace]['polarity'])==0:\n",
    "        danger = danger\n",
    "    else:\n",
    "        danger = danger.append({'airspace': class_list[i],\n",
    "                                              'danger_proportion_0': round(sum(result[airspace]['polarity']<0)/len(result[airspace]['polarity']),2),\n",
    "                                              'danger_proportion_-0.01': round(sum(result[airspace]['polarity']<-0.01)/len(result[airspace]['polarity']),2),\n",
    "                                              'danger proportion_-0.1': round(sum(result[airspace]['polarity']<-0.1)/len(result[airspace]['polarity']),2)}, ignore_index=True)\n",
    "danger.sort_values(by=['danger_proportion_-0.01'],ascending=False)"
   ]
  },
  {
   "cell_type": "code",
   "execution_count": 361,
   "metadata": {},
   "outputs": [
    {
     "data": {
      "text/html": [
       "<div>\n",
       "<style scoped>\n",
       "    .dataframe tbody tr th:only-of-type {\n",
       "        vertical-align: middle;\n",
       "    }\n",
       "\n",
       "    .dataframe tbody tr th {\n",
       "        vertical-align: top;\n",
       "    }\n",
       "\n",
       "    .dataframe thead th {\n",
       "        text-align: right;\n",
       "    }\n",
       "</style>\n",
       "<table border=\"1\" class=\"dataframe\">\n",
       "  <thead>\n",
       "    <tr style=\"text-align: right;\">\n",
       "      <th></th>\n",
       "      <th>assessments.1</th>\n",
       "      <th>danger_proportion_0</th>\n",
       "      <th>danger_proportion_-0.01</th>\n",
       "      <th>danger_proportion_-0.1</th>\n",
       "    </tr>\n",
       "  </thead>\n",
       "  <tbody>\n",
       "    <tr>\n",
       "      <th>11</th>\n",
       "      <td>Equipment / Tooling</td>\n",
       "      <td>1.00</td>\n",
       "      <td>1.00</td>\n",
       "      <td>0.00</td>\n",
       "    </tr>\n",
       "    <tr>\n",
       "      <th>9</th>\n",
       "      <td>Manuals</td>\n",
       "      <td>0.67</td>\n",
       "      <td>0.67</td>\n",
       "      <td>0.00</td>\n",
       "    </tr>\n",
       "    <tr>\n",
       "      <th>0</th>\n",
       "      <td>Human Factors</td>\n",
       "      <td>0.47</td>\n",
       "      <td>0.42</td>\n",
       "      <td>0.10</td>\n",
       "    </tr>\n",
       "    <tr>\n",
       "      <th>6</th>\n",
       "      <td>Weather</td>\n",
       "      <td>0.42</td>\n",
       "      <td>0.42</td>\n",
       "      <td>0.05</td>\n",
       "    </tr>\n",
       "    <tr>\n",
       "      <th>2</th>\n",
       "      <td>Procedure</td>\n",
       "      <td>0.41</td>\n",
       "      <td>0.34</td>\n",
       "      <td>0.00</td>\n",
       "    </tr>\n",
       "    <tr>\n",
       "      <th>5</th>\n",
       "      <td>Environment - Non Weather Related</td>\n",
       "      <td>0.33</td>\n",
       "      <td>0.33</td>\n",
       "      <td>0.11</td>\n",
       "    </tr>\n",
       "    <tr>\n",
       "      <th>8</th>\n",
       "      <td>Chart Or Publication</td>\n",
       "      <td>0.42</td>\n",
       "      <td>0.33</td>\n",
       "      <td>0.08</td>\n",
       "    </tr>\n",
       "    <tr>\n",
       "      <th>10</th>\n",
       "      <td>ATC Equipment / Nav Facility / Buildings</td>\n",
       "      <td>0.31</td>\n",
       "      <td>0.31</td>\n",
       "      <td>0.08</td>\n",
       "    </tr>\n",
       "    <tr>\n",
       "      <th>12</th>\n",
       "      <td>Company Policy</td>\n",
       "      <td>0.43</td>\n",
       "      <td>0.29</td>\n",
       "      <td>0.00</td>\n",
       "    </tr>\n",
       "    <tr>\n",
       "      <th>1</th>\n",
       "      <td>Ambiguous</td>\n",
       "      <td>0.32</td>\n",
       "      <td>0.28</td>\n",
       "      <td>0.07</td>\n",
       "    </tr>\n",
       "    <tr>\n",
       "      <th>3</th>\n",
       "      <td>Aircraft</td>\n",
       "      <td>0.30</td>\n",
       "      <td>0.27</td>\n",
       "      <td>0.06</td>\n",
       "    </tr>\n",
       "    <tr>\n",
       "      <th>7</th>\n",
       "      <td>Airport</td>\n",
       "      <td>0.23</td>\n",
       "      <td>0.19</td>\n",
       "      <td>0.12</td>\n",
       "    </tr>\n",
       "    <tr>\n",
       "      <th>4</th>\n",
       "      <td>Airspace Structure</td>\n",
       "      <td>0.17</td>\n",
       "      <td>0.17</td>\n",
       "      <td>0.00</td>\n",
       "    </tr>\n",
       "  </tbody>\n",
       "</table>\n",
       "</div>"
      ],
      "text/plain": [
       "                               assessments.1  danger_proportion_0  \\\n",
       "11                       Equipment / Tooling                 1.00   \n",
       "9                                    Manuals                 0.67   \n",
       "0                              Human Factors                 0.47   \n",
       "6                                    Weather                 0.42   \n",
       "2                                  Procedure                 0.41   \n",
       "5          Environment - Non Weather Related                 0.33   \n",
       "8                       Chart Or Publication                 0.42   \n",
       "10  ATC Equipment / Nav Facility / Buildings                 0.31   \n",
       "12                            Company Policy                 0.43   \n",
       "1                                  Ambiguous                 0.32   \n",
       "3                                   Aircraft                 0.30   \n",
       "7                                    Airport                 0.23   \n",
       "4                         Airspace Structure                 0.17   \n",
       "\n",
       "    danger_proportion_-0.01  danger_proportion_-0.1  \n",
       "11                     1.00                    0.00  \n",
       "9                      0.67                    0.00  \n",
       "0                      0.42                    0.10  \n",
       "6                      0.42                    0.05  \n",
       "2                      0.34                    0.00  \n",
       "5                      0.33                    0.11  \n",
       "8                      0.33                    0.08  \n",
       "10                     0.31                    0.08  \n",
       "12                     0.29                    0.00  \n",
       "1                      0.28                    0.07  \n",
       "3                      0.27                    0.06  \n",
       "7                      0.19                    0.12  \n",
       "4                      0.17                    0.00  "
      ]
     },
     "execution_count": 361,
     "metadata": {},
     "output_type": "execute_result"
    }
   ],
   "source": [
    "#dangerous proportion: polarity < -0.1\n",
    "\n",
    "class_list =result['assessments.1'].unique()\n",
    "danger = pd.DataFrame(columns = ['assessments.1', 'danger_proportion_0','danger_proportion_-0.01','danger_proportion_-0.1'])\n",
    "\n",
    "for i in range(len(class_list)):\n",
    "    class_ =result['assessments.1']==class_list[i]\n",
    "    if len(result[class_]['polarity'])==0:\n",
    "           danger = danger\n",
    "    else:\n",
    "           danger = danger.append({'assessments.1': class_list[i],\n",
    "                                   'danger_proportion_0': round(sum(result[class_]['polarity']<0)/len(result[class_]['polarity']),2),\n",
    "                                   'danger_proportion_-0.01': round(sum(result[class_]['polarity']<-0.01)/len(result[class_]['polarity']),2),\n",
    "                                   'danger_proportion_-0.1': round(sum(result[class_]['polarity']<-0.1)/len(result[class_]['polarity']),2),\n",
    "                                          }, ignore_index=True)\n",
    "danger.sort_values(by=['danger_proportion_-0.01'],ascending=False)"
   ]
  },
  {
   "cell_type": "code",
   "execution_count": 365,
   "metadata": {},
   "outputs": [
    {
     "data": {
      "text/html": [
       "<div>\n",
       "<style scoped>\n",
       "    .dataframe tbody tr th:only-of-type {\n",
       "        vertical-align: middle;\n",
       "    }\n",
       "\n",
       "    .dataframe tbody tr th {\n",
       "        vertical-align: top;\n",
       "    }\n",
       "\n",
       "    .dataframe thead th {\n",
       "        text-align: right;\n",
       "    }\n",
       "</style>\n",
       "<table border=\"1\" class=\"dataframe\">\n",
       "  <thead>\n",
       "    <tr style=\"text-align: right;\">\n",
       "      <th></th>\n",
       "      <th>airspace_abre_1_1</th>\n",
       "      <th>danger_proportion_0</th>\n",
       "      <th>danger_proportion_-0.01</th>\n",
       "      <th>danger_proportion_-0.1</th>\n",
       "    </tr>\n",
       "  </thead>\n",
       "  <tbody>\n",
       "    <tr>\n",
       "      <th>130</th>\n",
       "      <td>LOU</td>\n",
       "      <td>1.0</td>\n",
       "      <td>1.0</td>\n",
       "      <td>0.0</td>\n",
       "    </tr>\n",
       "    <tr>\n",
       "      <th>108</th>\n",
       "      <td>MCO</td>\n",
       "      <td>1.0</td>\n",
       "      <td>1.0</td>\n",
       "      <td>0.0</td>\n",
       "    </tr>\n",
       "    <tr>\n",
       "      <th>140</th>\n",
       "      <td>BTL</td>\n",
       "      <td>1.0</td>\n",
       "      <td>1.0</td>\n",
       "      <td>0.0</td>\n",
       "    </tr>\n",
       "    <tr>\n",
       "      <th>172</th>\n",
       "      <td>STP</td>\n",
       "      <td>1.0</td>\n",
       "      <td>1.0</td>\n",
       "      <td>0.0</td>\n",
       "    </tr>\n",
       "    <tr>\n",
       "      <th>174</th>\n",
       "      <td>ISM</td>\n",
       "      <td>1.0</td>\n",
       "      <td>1.0</td>\n",
       "      <td>0.0</td>\n",
       "    </tr>\n",
       "    <tr>\n",
       "      <th>177</th>\n",
       "      <td>MEM</td>\n",
       "      <td>1.0</td>\n",
       "      <td>1.0</td>\n",
       "      <td>1.0</td>\n",
       "    </tr>\n",
       "    <tr>\n",
       "      <th>69</th>\n",
       "      <td>FLL</td>\n",
       "      <td>1.0</td>\n",
       "      <td>1.0</td>\n",
       "      <td>0.0</td>\n",
       "    </tr>\n",
       "    <tr>\n",
       "      <th>180</th>\n",
       "      <td>MMV</td>\n",
       "      <td>1.0</td>\n",
       "      <td>1.0</td>\n",
       "      <td>1.0</td>\n",
       "    </tr>\n",
       "    <tr>\n",
       "      <th>66</th>\n",
       "      <td>MGM</td>\n",
       "      <td>1.0</td>\n",
       "      <td>1.0</td>\n",
       "      <td>1.0</td>\n",
       "    </tr>\n",
       "    <tr>\n",
       "      <th>182</th>\n",
       "      <td>SRQ</td>\n",
       "      <td>1.0</td>\n",
       "      <td>1.0</td>\n",
       "      <td>0.0</td>\n",
       "    </tr>\n",
       "  </tbody>\n",
       "</table>\n",
       "</div>"
      ],
      "text/plain": [
       "    airspace_abre_1_1  danger_proportion_0  danger_proportion_-0.01  \\\n",
       "130               LOU                  1.0                      1.0   \n",
       "108               MCO                  1.0                      1.0   \n",
       "140               BTL                  1.0                      1.0   \n",
       "172               STP                  1.0                      1.0   \n",
       "174               ISM                  1.0                      1.0   \n",
       "177               MEM                  1.0                      1.0   \n",
       "69                FLL                  1.0                      1.0   \n",
       "180               MMV                  1.0                      1.0   \n",
       "66                MGM                  1.0                      1.0   \n",
       "182               SRQ                  1.0                      1.0   \n",
       "\n",
       "     danger_proportion_-0.1  \n",
       "130                     0.0  \n",
       "108                     0.0  \n",
       "140                     0.0  \n",
       "172                     0.0  \n",
       "174                     0.0  \n",
       "177                     1.0  \n",
       "69                      0.0  \n",
       "180                     1.0  \n",
       "66                      1.0  \n",
       "182                     0.0  "
      ]
     },
     "execution_count": 365,
     "metadata": {},
     "output_type": "execute_result"
    }
   ],
   "source": [
    "#dangerous proportion: polarity < -0.1\n",
    "\n",
    "class_list =result['airspace_abre_1_1'].unique()\n",
    "danger = pd.DataFrame(columns = ['airspace_abre_1_1', 'danger_proportion_0','danger_proportion_-0.01','danger_proportion_-0.1'])\n",
    "\n",
    "for i in range(len(class_list)):\n",
    "    class_ =result['airspace_abre_1_1']==class_list[i]\n",
    "    if len(result[class_]['polarity'])==0:\n",
    "           danger = danger\n",
    "    else:\n",
    "           danger = danger.append({'airspace_abre_1_1': class_list[i],\n",
    "                                   'danger_proportion_0': round(sum(result[class_]['polarity']<0)/len(result[class_]['polarity']),2),\n",
    "                                   'danger_proportion_-0.01': round(sum(result[class_]['polarity']<-0.01)/len(result[class_]['polarity']),2),\n",
    "                                   'danger_proportion_-0.1': round(sum(result[class_]['polarity']<-0.1)/len(result[class_]['polarity']),2),\n",
    "                                          }, ignore_index=True)\n",
    "danger.sort_values(by=['danger_proportion_-0.01'],ascending=False).head(10)"
   ]
  },
  {
   "cell_type": "code",
   "execution_count": 375,
   "metadata": {},
   "outputs": [],
   "source": [
    "#dangerous proportion: polarity < -0.1\n",
    "\n",
    "class_list =result['year'].unique()\n",
    "danger = pd.DataFrame(columns = ['year', 'danger_proportion_0','danger_proportion_-0.01','danger_proportion_-0.1'])\n",
    "\n",
    "for i in range(len(class_list)):\n",
    "    class_ =result['year']==class_list[i]\n",
    "    if len(result[class_]['polarity'])==0:\n",
    "           danger = danger\n",
    "    else:\n",
    "           danger = danger.append({'year': class_list[i],\n",
    "                                   'danger_proportion_0': round(sum(result[class_]['polarity']<0)/len(result[class_]['polarity']),2),\n",
    "                                   'danger_proportion_-0.01': round(sum(result[class_]['polarity']<-0.01)/len(result[class_]['polarity']),2),\n",
    "                                   'danger_proportion_-0.1': round(sum(result[class_]['polarity']<-0.1)/len(result[class_]['polarity']),2),\n",
    "                                          }, ignore_index=True)\n",
    "danger = danger.sort_values(by=['year'],ascending=False).head(10)"
   ]
  },
  {
   "cell_type": "code",
   "execution_count": 380,
   "metadata": {},
   "outputs": [
    {
     "data": {
      "text/plain": [
       "[<matplotlib.lines.Line2D at 0x1a15f0dbd0>]"
      ]
     },
     "execution_count": 380,
     "metadata": {},
     "output_type": "execute_result"
    },
    {
     "data": {
      "image/png": "[encoded data removed]",
      "text/plain": [
       "<Figure size 1080x360 with 1 Axes>"
      ]
     },
     "metadata": {},
     "output_type": "display_data"
    }
   ],
   "source": [
    "plt.style.use('seaborn-whitegrid')\n",
    "fig = plt.figure(figsize = (15,5))\n",
    "plt.plot(danger['year'], danger['danger_proportion_-0.01'])\n",
    "plt.plot(danger['year'], danger['danger_proportion_-0.1'])"
   ]
  },
  {
   "cell_type": "code",
   "execution_count": 382,
   "metadata": {},
   "outputs": [],
   "source": [
    "#dangerous proportion: polarity < -0.1\n",
    "\n",
    "class_list =result['month'].unique()\n",
    "danger = pd.DataFrame(columns = ['month', 'danger_proportion_0','danger_proportion_-0.01','danger_proportion_-0.1'])\n",
    "\n",
    "for i in range(len(class_list)):\n",
    "    class_ =result['month']==class_list[i]\n",
    "    if len(result[class_]['polarity'])==0:\n",
    "           danger = danger\n",
    "    else:\n",
    "           danger = danger.append({'month': class_list[i],\n",
    "                                   'danger_proportion_0': round(sum(result[class_]['polarity']<0)/len(result[class_]['polarity']),2),\n",
    "                                   'danger_proportion_-0.01': round(sum(result[class_]['polarity']<-0.01)/len(result[class_]['polarity']),2),\n",
    "                                   'danger_proportion_-0.1': round(sum(result[class_]['polarity']<-0.1)/len(result[class_]['polarity']),2),\n",
    "                                          }, ignore_index=True)\n",
    "danger = danger.sort_values(by=['month'],ascending=False).head(10)"
   ]
  },
  {
   "cell_type": "code",
   "execution_count": 384,
   "metadata": {},
   "outputs": [
    {
     "data": {
      "text/plain": [
       "[<matplotlib.lines.Line2D at 0x1a15eb0c10>]"
      ]
     },
     "execution_count": 384,
     "metadata": {},
     "output_type": "execute_result"
    },
    {
     "data": {
      "image/png": "[encoded data removed]",
      "text/plain": [
       "<Figure size 1080x360 with 1 Axes>"
      ]
     },
     "metadata": {},
     "output_type": "display_data"
    }
   ],
   "source": [
    "plt.style.use('seaborn-whitegrid')\n",
    "fig = plt.figure(figsize = (15,5))\n",
    "plt.plot(danger['month'], danger['danger_proportion_0'])\n",
    "plt.plot(danger['month'], danger['danger_proportion_-0.1'])"
   ]
  },
  {
   "cell_type": "code",
   "execution_count": 235,
   "metadata": {},
   "outputs": [
    {
     "data": {
      "text/plain": [
       "'i contacted tower with i prefer runways 25 response was enter l base runways 25 cleared to land i confused said are base runways 25 cleared to land expecting to be corrected intermediate fix wrong i landed runways 7 not realizing when i departed 45 mins later i realized what i had done and figured tower let it slide i was in a hurry and tired next time i will ask to clarify and remember to mentally and with horizontal situation indicator compare what i ask for with what i get i could also have the plan missed approach point of the airport out'"
      ]
     },
     "execution_count": 235,
     "metadata": {},
     "output_type": "execute_result"
    }
   ],
   "source": [
    "#result['polarity']==-0.375000\n",
    "result['new report 1'][9]"
   ]
  },
  {
   "cell_type": "code",
   "execution_count": 247,
   "metadata": {},
   "outputs": [
    {
     "data": {
      "text/plain": [
       "'i was on a recurrent training flight with an instructor we had done 2 hrs of practice approaches emergency landings etc and were about to land at our base of operations on downwind my instructor asked me to do a noflaps landing i pull the power back but had trouble slowing the plane to vlo even with speed brakes we both recalled 3 green but when we landed had no gear'"
      ]
     },
     "execution_count": 247,
     "metadata": {},
     "output_type": "execute_result"
    }
   ],
   "source": [
    "#result['polarity']==-0.300000\n",
    "result['new report 1'][57]"
   ]
  },
  {
   "cell_type": "code",
   "execution_count": 249,
   "metadata": {},
   "outputs": [
    {
     "data": {
      "text/plain": [
       "'when leaving the lincoln lkn airport i was advised by the ground controller to taxi to takeoff runways which i did stopping at the hold line while i was switching to tower frequency the plane rolled forward till the front 12 of the plane was over the hold line before i noticed and stopped the movement the tower then gave me permission to take off which i did and followed their instructions while leaving the airspace no other planes were landing or taking off at the time i plan to get more hrs at a tower controled airport with an instructor'"
      ]
     },
     "execution_count": 249,
     "metadata": {},
     "output_type": "execute_result"
    }
   ],
   "source": [
    "#result['polarity']==0.281250\n",
    "result['new report 1'][69]"
   ]
  },
  {
   "cell_type": "markdown",
   "metadata": {},
   "source": [
    "# Word Count"
   ]
  },
  {
   "cell_type": "code",
   "execution_count": 181,
   "metadata": {},
   "outputs": [],
   "source": [
    "#Combine all lists to one list\n",
    "re1_word=[]\n",
    "for i in range(len(re1_new)):\n",
    "    re1_new[i] = re1_new[i].split(' ')\n",
    "    re1_word = re1_word +re1_new[i]"
   ]
  },
  {
   "cell_type": "code",
   "execution_count": 182,
   "metadata": {},
   "outputs": [
    {
     "name": "stderr",
     "output_type": "stream",
     "text": [
      "[nltk_data] Downloading package wordnet to /Users/mac/nltk_data...\n",
      "[nltk_data]   Package wordnet is already up-to-date!\n"
     ]
    }
   ],
   "source": [
    "nltk.download('wordnet')\n",
    "wnl = stem.WordNetLemmatizer()\n",
    "porter = stem.porter.PorterStemmer()"
   ]
  },
  {
   "cell_type": "code",
   "execution_count": 183,
   "metadata": {},
   "outputs": [],
   "source": [
    "def word_count(x):\n",
    "    #Remove stop words from the list\n",
    "    stop_words = stopwords.words('english')\n",
    "    x =[word for word in x if word not in stop_words]\n",
    "    #Stemming\n",
    "    #re1_word = [stem(word) for word in re1_word]\n",
    "    x = [wnl.lemmatize(word) for word in x]\n",
    "    #remove words contain number\n",
    "    x = [word for word in x if all(digit not in word for digit in \"1234567890\")]\n",
    "    #remove blank\n",
    "    return [word for word in x if word != '']"
   ]
  },
  {
   "cell_type": "code",
   "execution_count": 184,
   "metadata": {},
   "outputs": [],
   "source": [
    "re1_word_remove = word_count(re1_word)"
   ]
  },
  {
   "cell_type": "code",
   "execution_count": 185,
   "metadata": {},
   "outputs": [],
   "source": [
    "#word count\n",
    "counts = Counter(re1_word_remove)\n",
    "frequency =[(l,k) for k,l in sorted([(j,i) for i,j in counts.items()], reverse=True)]\n",
    "frequency = pd.DataFrame(frequency)\n",
    "frequency.columns = ['Word','Count']"
   ]
  },
  {
   "cell_type": "code",
   "execution_count": 186,
   "metadata": {},
   "outputs": [],
   "source": [
    "#add frequency column\n",
    "frequency['Percentage'] = round(100 * frequency['Count'] / frequency['Count'].sum(),2)"
   ]
  },
  {
   "cell_type": "code",
   "execution_count": 187,
   "metadata": {},
   "outputs": [
    {
     "data": {
      "text/html": [
       "<div>\n",
       "<style scoped>\n",
       "    .dataframe tbody tr th:only-of-type {\n",
       "        vertical-align: middle;\n",
       "    }\n",
       "\n",
       "    .dataframe tbody tr th {\n",
       "        vertical-align: top;\n",
       "    }\n",
       "\n",
       "    .dataframe thead th {\n",
       "        text-align: right;\n",
       "    }\n",
       "</style>\n",
       "<table border=\"1\" class=\"dataframe\">\n",
       "  <thead>\n",
       "    <tr style=\"text-align: right;\">\n",
       "      <th></th>\n",
       "      <th>Word</th>\n",
       "      <th>Count</th>\n",
       "      <th>Percentage</th>\n",
       "    </tr>\n",
       "  </thead>\n",
       "  <tbody>\n",
       "    <tr>\n",
       "      <th>0</th>\n",
       "      <td>runway</td>\n",
       "      <td>474</td>\n",
       "      <td>1.85</td>\n",
       "    </tr>\n",
       "    <tr>\n",
       "      <th>1</th>\n",
       "      <td>aircraft</td>\n",
       "      <td>455</td>\n",
       "      <td>1.78</td>\n",
       "    </tr>\n",
       "    <tr>\n",
       "      <th>2</th>\n",
       "      <td>flight</td>\n",
       "      <td>363</td>\n",
       "      <td>1.42</td>\n",
       "    </tr>\n",
       "    <tr>\n",
       "      <th>3</th>\n",
       "      <td>foot</td>\n",
       "      <td>300</td>\n",
       "      <td>1.17</td>\n",
       "    </tr>\n",
       "    <tr>\n",
       "      <th>4</th>\n",
       "      <td>traffic</td>\n",
       "      <td>293</td>\n",
       "      <td>1.15</td>\n",
       "    </tr>\n",
       "    <tr>\n",
       "      <th>5</th>\n",
       "      <td>tower</td>\n",
       "      <td>247</td>\n",
       "      <td>0.97</td>\n",
       "    </tr>\n",
       "    <tr>\n",
       "      <th>6</th>\n",
       "      <td>approach</td>\n",
       "      <td>221</td>\n",
       "      <td>0.86</td>\n",
       "    </tr>\n",
       "    <tr>\n",
       "      <th>7</th>\n",
       "      <td>u</td>\n",
       "      <td>191</td>\n",
       "      <td>0.75</td>\n",
       "    </tr>\n",
       "    <tr>\n",
       "      <th>8</th>\n",
       "      <td>control</td>\n",
       "      <td>183</td>\n",
       "      <td>0.72</td>\n",
       "    </tr>\n",
       "    <tr>\n",
       "      <th>9</th>\n",
       "      <td>controller</td>\n",
       "      <td>180</td>\n",
       "      <td>0.70</td>\n",
       "    </tr>\n",
       "  </tbody>\n",
       "</table>\n",
       "</div>"
      ],
      "text/plain": [
       "         Word  Count  Percentage\n",
       "0      runway    474        1.85\n",
       "1    aircraft    455        1.78\n",
       "2      flight    363        1.42\n",
       "3        foot    300        1.17\n",
       "4     traffic    293        1.15\n",
       "5       tower    247        0.97\n",
       "6    approach    221        0.86\n",
       "7           u    191        0.75\n",
       "8     control    183        0.72\n",
       "9  controller    180        0.70"
      ]
     },
     "execution_count": 187,
     "metadata": {},
     "output_type": "execute_result"
    }
   ],
   "source": [
    "frequency[0:10]"
   ]
  },
  {
   "cell_type": "code",
   "execution_count": 188,
   "metadata": {},
   "outputs": [],
   "source": [
    "frequency.to_csv('sample_re1_word_count.csv')"
   ]
  },
  {
   "cell_type": "markdown",
   "metadata": {},
   "source": [
    "# Extracing Regular Words"
   ]
  },
  {
   "cell_type": "code",
   "execution_count": 189,
   "metadata": {},
   "outputs": [],
   "source": [
    "# import two dictionaries to remove regular words\n",
    "dict_regular = pd.read_csv(\"dictionary2_0210.csv\")\n",
    "dict_engmix_df = pd.read_csv(\"engmix.csv\", encoding='latin1')"
   ]
  },
  {
   "cell_type": "code",
   "execution_count": 190,
   "metadata": {},
   "outputs": [
    {
     "data": {
      "text/plain": [
       "84118"
      ]
     },
     "execution_count": 190,
     "metadata": {},
     "output_type": "execute_result"
    }
   ],
   "source": [
    "dict_engmix = list(dict_engmix_df.iloc[:, 0])\n",
    "len(dict_engmix)"
   ]
  },
  {
   "cell_type": "code",
   "execution_count": 191,
   "metadata": {},
   "outputs": [
    {
     "data": {
      "text/plain": [
       "570"
      ]
     },
     "execution_count": 191,
     "metadata": {},
     "output_type": "execute_result"
    }
   ],
   "source": [
    "# store the first column with words \n",
    "dict_words = dict_regular.iloc[:, 0]\n",
    "len(dict_words)"
   ]
  },
  {
   "cell_type": "code",
   "execution_count": 192,
   "metadata": {},
   "outputs": [
    {
     "data": {
      "text/plain": [
       "564"
      ]
     },
     "execution_count": 192,
     "metadata": {},
     "output_type": "execute_result"
    }
   ],
   "source": [
    "# remove duplicated words and make them lowercase\n",
    "dict_words = list(dict.fromkeys(dict_words))\n",
    "dict_words = [x.lower() for x in dict_words]\n",
    "len(dict_words)"
   ]
  },
  {
   "cell_type": "code",
   "execution_count": 193,
   "metadata": {},
   "outputs": [],
   "source": [
    "# remove function\n",
    "def remove_words(original_dict, dict_):\n",
    "    filter_bool = []\n",
    "    for word in original_dict[\"Word\"]:\n",
    "        filter_bool.append(word not in dict_)\n",
    "        \n",
    "    new_dict = original_dict[filter_bool]\n",
    "    return new_dict"
   ]
  },
  {
   "cell_type": "code",
   "execution_count": 194,
   "metadata": {},
   "outputs": [],
   "source": [
    "# use the dict_words to remove\n",
    "dict_temp = remove_words(frequency, dict_words)"
   ]
  },
  {
   "cell_type": "code",
   "execution_count": 195,
   "metadata": {},
   "outputs": [
    {
     "data": {
      "text/plain": [
       "501"
      ]
     },
     "execution_count": 195,
     "metadata": {},
     "output_type": "execute_result"
    }
   ],
   "source": [
    "# use the dict_engmix to remove\n",
    "dict_abnormal = remove_words(dict_temp, dict_engmix)\n",
    "len(dict_abnormal)"
   ]
  },
  {
   "cell_type": "code",
   "execution_count": 196,
   "metadata": {},
   "outputs": [
    {
     "data": {
      "text/html": [
       "<div>\n",
       "<style scoped>\n",
       "    .dataframe tbody tr th:only-of-type {\n",
       "        vertical-align: middle;\n",
       "    }\n",
       "\n",
       "    .dataframe tbody tr th {\n",
       "        vertical-align: top;\n",
       "    }\n",
       "\n",
       "    .dataframe thead th {\n",
       "        text-align: right;\n",
       "    }\n",
       "</style>\n",
       "<table border=\"1\" class=\"dataframe\">\n",
       "  <thead>\n",
       "    <tr style=\"text-align: right;\">\n",
       "      <th></th>\n",
       "      <th>Word</th>\n",
       "      <th>Count</th>\n",
       "      <th>Percentage</th>\n",
       "    </tr>\n",
       "  </thead>\n",
       "  <tbody>\n",
       "    <tr>\n",
       "      <th>194</th>\n",
       "      <td>teb</td>\n",
       "      <td>26</td>\n",
       "      <td>0.10</td>\n",
       "    </tr>\n",
       "    <tr>\n",
       "      <th>238</th>\n",
       "      <td>zzz</td>\n",
       "      <td>21</td>\n",
       "      <td>0.08</td>\n",
       "    </tr>\n",
       "    <tr>\n",
       "      <th>274</th>\n",
       "      <td>kt</td>\n",
       "      <td>19</td>\n",
       "      <td>0.07</td>\n",
       "    </tr>\n",
       "    <tr>\n",
       "      <th>284</th>\n",
       "      <td>tcas</td>\n",
       "      <td>18</td>\n",
       "      <td>0.07</td>\n",
       "    </tr>\n",
       "    <tr>\n",
       "      <th>371</th>\n",
       "      <td>pdk</td>\n",
       "      <td>14</td>\n",
       "      <td>0.05</td>\n",
       "    </tr>\n",
       "    <tr>\n",
       "      <th>374</th>\n",
       "      <td>hr</td>\n",
       "      <td>14</td>\n",
       "      <td>0.05</td>\n",
       "    </tr>\n",
       "    <tr>\n",
       "      <th>458</th>\n",
       "      <td>mry</td>\n",
       "      <td>11</td>\n",
       "      <td>0.04</td>\n",
       "    </tr>\n",
       "    <tr>\n",
       "      <th>477</th>\n",
       "      <td>zoa</td>\n",
       "      <td>10</td>\n",
       "      <td>0.04</td>\n",
       "    </tr>\n",
       "    <tr>\n",
       "      <th>519</th>\n",
       "      <td>atl</td>\n",
       "      <td>10</td>\n",
       "      <td>0.04</td>\n",
       "    </tr>\n",
       "    <tr>\n",
       "      <th>524</th>\n",
       "      <td>wentz</td>\n",
       "      <td>9</td>\n",
       "      <td>0.04</td>\n",
       "    </tr>\n",
       "    <tr>\n",
       "      <th>602</th>\n",
       "      <td>hio</td>\n",
       "      <td>8</td>\n",
       "      <td>0.03</td>\n",
       "    </tr>\n",
       "    <tr>\n",
       "      <th>611</th>\n",
       "      <td>dkb</td>\n",
       "      <td>8</td>\n",
       "      <td>0.03</td>\n",
       "    </tr>\n",
       "    <tr>\n",
       "      <th>626</th>\n",
       "      <td>zid</td>\n",
       "      <td>7</td>\n",
       "      <td>0.03</td>\n",
       "    </tr>\n",
       "    <tr>\n",
       "      <th>697</th>\n",
       "      <td>wacki</td>\n",
       "      <td>6</td>\n",
       "      <td>0.02</td>\n",
       "    </tr>\n",
       "    <tr>\n",
       "      <th>705</th>\n",
       "      <td>unicom</td>\n",
       "      <td>6</td>\n",
       "      <td>0.02</td>\n",
       "    </tr>\n",
       "    <tr>\n",
       "      <th>720</th>\n",
       "      <td>sfo</td>\n",
       "      <td>6</td>\n",
       "      <td>0.02</td>\n",
       "    </tr>\n",
       "    <tr>\n",
       "      <th>752</th>\n",
       "      <td>mmtj</td>\n",
       "      <td>6</td>\n",
       "      <td>0.02</td>\n",
       "    </tr>\n",
       "    <tr>\n",
       "      <th>763</th>\n",
       "      <td>holliman</td>\n",
       "      <td>6</td>\n",
       "      <td>0.02</td>\n",
       "    </tr>\n",
       "    <tr>\n",
       "      <th>765</th>\n",
       "      <td>griffiss</td>\n",
       "      <td>6</td>\n",
       "      <td>0.02</td>\n",
       "    </tr>\n",
       "    <tr>\n",
       "      <th>777</th>\n",
       "      <td>dpe</td>\n",
       "      <td>6</td>\n",
       "      <td>0.02</td>\n",
       "    </tr>\n",
       "  </tbody>\n",
       "</table>\n",
       "</div>"
      ],
      "text/plain": [
       "         Word  Count  Percentage\n",
       "194       teb     26        0.10\n",
       "238       zzz     21        0.08\n",
       "274        kt     19        0.07\n",
       "284      tcas     18        0.07\n",
       "371       pdk     14        0.05\n",
       "374        hr     14        0.05\n",
       "458       mry     11        0.04\n",
       "477       zoa     10        0.04\n",
       "519       atl     10        0.04\n",
       "524     wentz      9        0.04\n",
       "602       hio      8        0.03\n",
       "611       dkb      8        0.03\n",
       "626       zid      7        0.03\n",
       "697     wacki      6        0.02\n",
       "705    unicom      6        0.02\n",
       "720       sfo      6        0.02\n",
       "752      mmtj      6        0.02\n",
       "763  holliman      6        0.02\n",
       "765  griffiss      6        0.02\n",
       "777       dpe      6        0.02"
      ]
     },
     "execution_count": 196,
     "metadata": {},
     "output_type": "execute_result"
    }
   ],
   "source": [
    "dict_abnormal.head(20)"
   ]
  },
  {
   "cell_type": "code",
   "execution_count": 197,
   "metadata": {},
   "outputs": [
    {
     "data": {
      "text/plain": [
       "2.659999999999987"
      ]
     },
     "execution_count": 197,
     "metadata": {},
     "output_type": "execute_result"
    }
   ],
   "source": [
    "#proportion of remaining abbs \n",
    "sum(dict_abnormal['Percentage'])"
   ]
  },
  {
   "cell_type": "code",
   "execution_count": 198,
   "metadata": {},
   "outputs": [],
   "source": [
    "dict_abnormal.to_csv(\"sample_re1_remaining_abbs.csv\")"
   ]
  }
 ],
 "metadata": {
  "kernelspec": {
   "display_name": "Python 3",
   "language": "python",
   "name": "python3"
  },
  "language_info": {
   "codemirror_mode": {
    "name": "ipython",
    "version": 3
   },
   "file_extension": ".py",
   "mimetype": "text/x-python",
   "name": "python",
   "nbconvert_exporter": "python",
   "pygments_lexer": "ipython3",
   "version": "3.7.4"
  }
 },
 "nbformat": 4,
 "nbformat_minor": 2
}
